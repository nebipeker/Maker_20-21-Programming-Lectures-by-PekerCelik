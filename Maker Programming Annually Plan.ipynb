{
 "cells": [
  {
   "cell_type": "markdown",
   "metadata": {},
   "source": [
    "#  OzuMaker Club Programming lectures  by Peker Celik | 20/21 Fall"
   ]
  },
  {
   "cell_type": "markdown",
   "metadata": {},
   "source": [
    " Lectures:\n",
    "    0- Git and github\n",
    "    1- Introduction to programming\n",
    "    2- Gui design\n",
    "    3- Web Scrapping\n",
    " \n",
    " 0- Git and github:\n",
    "         - What is git\n",
    "         - What is github\n",
    "         - What are git commands\n",
    "\n",
    " 1- Introduction to programming:\n",
    "         - What is programming\n",
    "         - What are the concepts of programming\n",
    "         - What is python\n",
    "         - Python's future and history\n",
    "         - How to program in python\n",
    "         - Finishing Project\n",
    "\n",
    " 2- Gui design:\n",
    "         - What is gui\n",
    "         - Why do we need it\n",
    "         - Some tips of gui\n",
    "         - What are the elements of gui\n",
    "         - Which libraries we can use for creating a gui\n",
    "         - Finishing Project\n",
    "         \n",
    " 3- Web Scrapping:\n",
    "         - What is web\n",
    "         - How websites work\n",
    "         - Some basic html\n",
    "         - Is it illegal\n",
    "         - What kind of cool stuff we can do with it\n",
    "         - Finishing Project\n",
    "         \n",
    " "
   ]
  }
 ],
 "metadata": {
  "kernelspec": {
   "display_name": "Python 3",
   "language": "python",
   "name": "python3"
  },
  "language_info": {
   "codemirror_mode": {
    "name": "ipython",
    "version": 3
   },
   "file_extension": ".py",
   "mimetype": "text/x-python",
   "name": "python",
   "nbconvert_exporter": "python",
   "pygments_lexer": "ipython3",
   "version": "3.8.3"
  }
 },
 "nbformat": 4,
 "nbformat_minor": 4
}
