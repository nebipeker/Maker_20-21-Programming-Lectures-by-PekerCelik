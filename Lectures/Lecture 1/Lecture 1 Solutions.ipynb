{
 "cells": [
  {
   "cell_type": "markdown",
   "metadata": {
    "colab_type": "text",
    "id": "aCCE-rvkcCtf"
   },
   "source": [
    "## Index\n",
    "\n",
    "\n",
    "\n",
    "1.   Data Types\n",
    "2.   Lists\n",
    "3.   Dictionaries\n",
    "4.   Tuples\n",
    "5.   Loops\n",
    "6.   Condition Statements\n",
    "7.   Functions\n",
    "----Project-----\n",
    "\n",
    "\n"
   ]
  },
  {
   "cell_type": "code",
   "execution_count": 0,
   "metadata": {
    "colab": {},
    "colab_type": "code",
    "id": "EyQYHgpYbgFu"
   },
   "outputs": [],
   "source": [
    "# Fall 2020 Özü MAKER CLub  | Nebi Peker Çelik\n",
    "# Bu işaret comment yazmak için kullanılır\n",
    "\n",
    "# integer type\n",
    "var1 = 10\n",
    "var2 = 20"
   ]
  },
  {
   "cell_type": "code",
   "execution_count": null,
   "metadata": {},
   "outputs": [],
   "source": [
    "print(var2+var1)"
   ]
  },
  {
   "cell_type": "code",
   "execution_count": 1,
   "metadata": {
    "colab": {
     "base_uri": "https://localhost:8080/",
     "height": 34
    },
    "colab_type": "code",
    "executionInfo": {
     "elapsed": 2139,
     "status": "ok",
     "timestamp": 1583339470080,
     "user": {
      "displayName": "Peker Çelik",
      "photoUrl": "",
      "userId": "09102142290444287322"
     },
     "user_tz": -180
    },
    "id": "a1930pggofB6",
    "outputId": "17d51d7d-cd24-4eb5-ae3d-a723f94a1b60"
   },
   "outputs": [
    {
     "data": {
      "text/plain": [
       "float"
      ]
     },
     "execution_count": 1,
     "metadata": {
      "tags": []
     },
     "output_type": "execute_result"
    }
   ],
   "source": [
    "# Float \n",
    "var3 = \n",
    "type(var3)"
   ]
  },
  {
   "cell_type": "code",
   "execution_count": 0,
   "metadata": {
    "colab": {
     "base_uri": "https://localhost:8080/",
     "height": 34
    },
    "colab_type": "code",
    "executionInfo": {
     "elapsed": 411,
     "status": "ok",
     "timestamp": 1582725509553,
     "user": {
      "displayName": "Peker Çelik",
      "photoUrl": "",
      "userId": "09102142290444287322"
     },
     "user_tz": -180
    },
    "id": "F_MYHhuyopxv",
    "outputId": "672360cb-ca0d-470e-f52c-e70ef6b4eaf7"
   },
   "outputs": [
    {
     "data": {
      "text/plain": [
       "13.14"
      ]
     },
     "execution_count": 67,
     "metadata": {
      "tags": []
     },
     "output_type": "execute_result"
    }
   ],
   "source": [
    "var3+var1"
   ]
  },
  {
   "cell_type": "code",
   "execution_count": 0,
   "metadata": {
    "colab": {},
    "colab_type": "code",
    "id": "FtPC7qimory7"
   },
   "outputs": [],
   "source": [
    "# String\n",
    "var4 = \"Hello World\""
   ]
  },
  {
   "cell_type": "code",
   "execution_count": 0,
   "metadata": {
    "colab": {
     "base_uri": "https://localhost:8080/",
     "height": 34
    },
    "colab_type": "code",
    "executionInfo": {
     "elapsed": 561,
     "status": "ok",
     "timestamp": 1582725510169,
     "user": {
      "displayName": "Peker Çelik",
      "photoUrl": "",
      "userId": "09102142290444287322"
     },
     "user_tz": -180
    },
    "id": "Bjy7gKlFpuda",
    "outputId": "3f550d6a-e63b-49c1-b81f-2b30b5be4ffb"
   },
   "outputs": [
    {
     "name": "stdout",
     "output_type": "stream",
     "text": [
      "Hello World 10\n"
     ]
    }
   ],
   "source": [
    "print(var4 ,var1)"
   ]
  },
  {
   "cell_type": "code",
   "execution_count": 0,
   "metadata": {
    "colab": {},
    "colab_type": "code",
    "id": "sZU8AK9zpxDe"
   },
   "outputs": [],
   "source": [
    "uzunluk = len(var4)"
   ]
  },
  {
   "cell_type": "code",
   "execution_count": 0,
   "metadata": {
    "colab": {},
    "colab_type": "code",
    "id": "ILSEeps2wxlX"
   },
   "outputs": [],
   "source": [
    "#boolean\n",
    "a = True\n",
    "b = False"
   ]
  },
  {
   "cell_type": "code",
   "execution_count": 0,
   "metadata": {
    "colab": {
     "base_uri": "https://localhost:8080/",
     "height": 34
    },
    "colab_type": "code",
    "executionInfo": {
     "elapsed": 3858,
     "status": "ok",
     "timestamp": 1582725531487,
     "user": {
      "displayName": "Peker Çelik",
      "photoUrl": "",
      "userId": "09102142290444287322"
     },
     "user_tz": -180
    },
    "id": "0pF_XZQ-qNm3",
    "outputId": "1c7611cf-2033-414d-ea9d-c5990cf4e920"
   },
   "outputs": [
    {
     "name": "stdout",
     "output_type": "stream",
     "text": [
      "merhaba adını yaz:  10\n"
     ]
    }
   ],
   "source": [
    "yas = int(input(\"merhaba adını yaz:  \"))"
   ]
  },
  {
   "cell_type": "code",
   "execution_count": 0,
   "metadata": {
    "colab": {
     "base_uri": "https://localhost:8080/",
     "height": 34
    },
    "colab_type": "code",
    "executionInfo": {
     "elapsed": 578,
     "status": "ok",
     "timestamp": 1582725535101,
     "user": {
      "displayName": "Peker Çelik",
      "photoUrl": "",
      "userId": "09102142290444287322"
     },
     "user_tz": -180
    },
    "id": "zaqLn5wDqWlN",
    "outputId": "cb2f4872-183a-4616-a28a-e653ac9961b3"
   },
   "outputs": [
    {
     "data": {
      "text/plain": [
       "10"
      ]
     },
     "execution_count": 75,
     "metadata": {
      "tags": []
     },
     "output_type": "execute_result"
    }
   ],
   "source": [
    "yas"
   ]
  },
  {
   "cell_type": "markdown",
   "metadata": {
    "colab_type": "text",
    "id": "feclHbq3rVu8"
   },
   "source": [
    "Bilmeniz gerekenler\n",
    "\n",
    "\"*\" işleci, çarpma işlemleri için\n",
    "\n",
    "/ işleci, bölme işlemleri için\n",
    "\n",
    "\"+\" işleci, toplama işlemleri için\n",
    "\n",
    "\"-\" işleci, çıkarma işlemleri için\n",
    "\n",
    "< işleci, 'küçüktür' anlamına gelir\n",
    "\n",
    "\">\" işleci, 'büyüktür' anlamına gelir\n",
    "\n",
    "== işleci, 'eşittir' anlamına gelir\n",
    "\n",
    "<= işleci, 'küçük eşittir' anlamına gelir\n",
    "\n",
    "\">=\" işleci, 'büyük eşittir' anlamına gelir\n",
    "\n",
    "!= işleci, 'eşit değil' anlamına gelir\n",
    "\n",
    "** işleci, 'üs alma' anlamına gelir\n",
    "\n",
    "True işleci, 'doğru' anlamına gelir\n",
    "\n",
    "False işleci, 'yanlış' anlamına gelir\n",
    "\n",
    "and işleci, 've' anlamına gelir\n",
    "\n",
    "or işleci, 'veya' anlamına gelir\n",
    "\n",
    "not işleci, 'değil' anlamına gelir."
   ]
  },
  {
   "cell_type": "code",
   "execution_count": 0,
   "metadata": {
    "colab": {
     "base_uri": "https://localhost:8080/",
     "height": 34
    },
    "colab_type": "code",
    "executionInfo": {
     "elapsed": 535,
     "status": "ok",
     "timestamp": 1582725536502,
     "user": {
      "displayName": "Peker Çelik",
      "photoUrl": "",
      "userId": "09102142290444287322"
     },
     "user_tz": -180
    },
    "id": "jA5jbb3SqfB-",
    "outputId": "e0b50554-aff1-4de5-e0ce-79402ef796ad"
   },
   "outputs": [
    {
     "data": {
      "text/plain": [
       "8"
      ]
     },
     "execution_count": 76,
     "metadata": {
      "tags": []
     },
     "output_type": "execute_result"
    }
   ],
   "source": [
    "2**3"
   ]
  },
  {
   "cell_type": "code",
   "execution_count": 0,
   "metadata": {
    "colab": {},
    "colab_type": "code",
    "id": "rn049EoLsKhi"
   },
   "outputs": [],
   "source": [
    "#Listeler\n",
    "\n",
    "liste1=[1,5,\"mehmet\",\"a\",110]\n",
    "liste0=[]"
   ]
  },
  {
   "cell_type": "code",
   "execution_count": 0,
   "metadata": {
    "colab": {
     "base_uri": "https://localhost:8080/",
     "height": 34
    },
    "colab_type": "code",
    "executionInfo": {
     "elapsed": 367,
     "status": "ok",
     "timestamp": 1582725537585,
     "user": {
      "displayName": "Peker Çelik",
      "photoUrl": "",
      "userId": "09102142290444287322"
     },
     "user_tz": -180
    },
    "id": "necR67_DigWN",
    "outputId": "bd36b420-ae5f-43be-a429-25a46d644b09"
   },
   "outputs": [
    {
     "data": {
      "text/plain": [
       "[]"
      ]
     },
     "execution_count": 78,
     "metadata": {
      "tags": []
     },
     "output_type": "execute_result"
    }
   ],
   "source": [
    "liste0"
   ]
  },
  {
   "cell_type": "code",
   "execution_count": 0,
   "metadata": {
    "colab": {
     "base_uri": "https://localhost:8080/",
     "height": 34
    },
    "colab_type": "code",
    "executionInfo": {
     "elapsed": 489,
     "status": "ok",
     "timestamp": 1582725538049,
     "user": {
      "displayName": "Peker Çelik",
      "photoUrl": "",
      "userId": "09102142290444287322"
     },
     "user_tz": -180
    },
    "id": "xcHaKmrEijDw",
    "outputId": "abbb91fc-68ac-41d9-c36b-db95ce9d7153"
   },
   "outputs": [
    {
     "data": {
      "text/plain": [
       "[3]"
      ]
     },
     "execution_count": 79,
     "metadata": {
      "tags": []
     },
     "output_type": "execute_result"
    }
   ],
   "source": [
    "liste0.append(3)\n",
    "liste0"
   ]
  },
  {
   "cell_type": "code",
   "execution_count": 0,
   "metadata": {
    "colab": {
     "base_uri": "https://localhost:8080/",
     "height": 34
    },
    "colab_type": "code",
    "executionInfo": {
     "elapsed": 596,
     "status": "ok",
     "timestamp": 1582725538501,
     "user": {
      "displayName": "Peker Çelik",
      "photoUrl": "",
      "userId": "09102142290444287322"
     },
     "user_tz": -180
    },
    "id": "4zrmJKwnvkUB",
    "outputId": "ba6411aa-26e1-4235-97ca-90bc3978c9c6"
   },
   "outputs": [
    {
     "data": {
      "text/plain": [
       "dict_keys(['merve', 'ali', 5])"
      ]
     },
     "execution_count": 80,
     "metadata": {
      "tags": []
     },
     "output_type": "execute_result"
    }
   ],
   "source": [
    "#Dictionary\n",
    "\n",
    "dict = {\"merve\": 10,\"ali\":23,5:4}\n",
    "dict.keys()"
   ]
  },
  {
   "cell_type": "code",
   "execution_count": 0,
   "metadata": {
    "colab": {
     "base_uri": "https://localhost:8080/",
     "height": 34
    },
    "colab_type": "code",
    "executionInfo": {
     "elapsed": 581,
     "status": "ok",
     "timestamp": 1582725538775,
     "user": {
      "displayName": "Peker Çelik",
      "photoUrl": "",
      "userId": "09102142290444287322"
     },
     "user_tz": -180
    },
    "id": "WFVyBNionMci",
    "outputId": "ba84814b-8043-4312-f242-204d123b88a9"
   },
   "outputs": [
    {
     "data": {
      "text/plain": [
       "dict_values([10, 23, 4])"
      ]
     },
     "execution_count": 81,
     "metadata": {
      "tags": []
     },
     "output_type": "execute_result"
    }
   ],
   "source": [
    "dict.values()"
   ]
  },
  {
   "cell_type": "code",
   "execution_count": 0,
   "metadata": {
    "colab": {
     "base_uri": "https://localhost:8080/",
     "height": 34
    },
    "colab_type": "code",
    "executionInfo": {
     "elapsed": 592,
     "status": "ok",
     "timestamp": 1582725539050,
     "user": {
      "displayName": "Peker Çelik",
      "photoUrl": "",
      "userId": "09102142290444287322"
     },
     "user_tz": -180
    },
    "id": "6FDHE_gEnWJ4",
    "outputId": "445ab9aa-1d32-4698-d613-090c3b320096"
   },
   "outputs": [
    {
     "data": {
      "text/plain": [
       "10"
      ]
     },
     "execution_count": 82,
     "metadata": {
      "tags": []
     },
     "output_type": "execute_result"
    }
   ],
   "source": [
    "dict[\"merve\"]"
   ]
  },
  {
   "cell_type": "code",
   "execution_count": 0,
   "metadata": {
    "colab": {
     "base_uri": "https://localhost:8080/",
     "height": 34
    },
    "colab_type": "code",
    "executionInfo": {
     "elapsed": 773,
     "status": "ok",
     "timestamp": 1582725539494,
     "user": {
      "displayName": "Peker Çelik",
      "photoUrl": "",
      "userId": "09102142290444287322"
     },
     "user_tz": -180
    },
    "id": "xI93vQr0vn0-",
    "outputId": "2b142c2c-a56f-404a-bb12-6e9245cf7efb"
   },
   "outputs": [
    {
     "data": {
      "text/plain": [
       "(14, 2, 3, 124, 4, 2)"
      ]
     },
     "execution_count": 83,
     "metadata": {
      "tags": []
     },
     "output_type": "execute_result"
    }
   ],
   "source": [
    "#Tuples\n",
    "tup = (14,2,3,124,4,2)\n",
    "tup"
   ]
  },
  {
   "cell_type": "code",
   "execution_count": 0,
   "metadata": {
    "colab": {
     "base_uri": "https://localhost:8080/",
     "height": 34
    },
    "colab_type": "code",
    "executionInfo": {
     "elapsed": 511,
     "status": "ok",
     "timestamp": 1582725539494,
     "user": {
      "displayName": "Peker Çelik",
      "photoUrl": "",
      "userId": "09102142290444287322"
     },
     "user_tz": -180
    },
    "id": "ZYndHPKBlVph",
    "outputId": "35abc601-1177-4ca4-fcf3-6d6950ed6685"
   },
   "outputs": [
    {
     "data": {
      "text/plain": [
       "14"
      ]
     },
     "execution_count": 84,
     "metadata": {
      "tags": []
     },
     "output_type": "execute_result"
    }
   ],
   "source": [
    "tup[0]"
   ]
  },
  {
   "cell_type": "code",
   "execution_count": 0,
   "metadata": {
    "colab": {
     "base_uri": "https://localhost:8080/",
     "height": 1000
    },
    "colab_type": "code",
    "executionInfo": {
     "elapsed": 529,
     "status": "ok",
     "timestamp": 1582725539740,
     "user": {
      "displayName": "Peker Çelik",
      "photoUrl": "",
      "userId": "09102142290444287322"
     },
     "user_tz": -180
    },
    "id": "NDA2a2NtlgNz",
    "outputId": "c2926500-f726-4bf8-e54e-e2c6e82fc9ac"
   },
   "outputs": [
    {
     "name": "stdout",
     "output_type": "stream",
     "text": [
      "Help on class tuple in module builtins:\n",
      "\n",
      "class tuple(object)\n",
      " |  tuple() -> empty tuple\n",
      " |  tuple(iterable) -> tuple initialized from iterable's items\n",
      " |  \n",
      " |  If the argument is a tuple, the return value is the same object.\n",
      " |  \n",
      " |  Methods defined here:\n",
      " |  \n",
      " |  __add__(self, value, /)\n",
      " |      Return self+value.\n",
      " |  \n",
      " |  __contains__(self, key, /)\n",
      " |      Return key in self.\n",
      " |  \n",
      " |  __eq__(self, value, /)\n",
      " |      Return self==value.\n",
      " |  \n",
      " |  __ge__(self, value, /)\n",
      " |      Return self>=value.\n",
      " |  \n",
      " |  __getattribute__(self, name, /)\n",
      " |      Return getattr(self, name).\n",
      " |  \n",
      " |  __getitem__(self, key, /)\n",
      " |      Return self[key].\n",
      " |  \n",
      " |  __getnewargs__(...)\n",
      " |  \n",
      " |  __gt__(self, value, /)\n",
      " |      Return self>value.\n",
      " |  \n",
      " |  __hash__(self, /)\n",
      " |      Return hash(self).\n",
      " |  \n",
      " |  __iter__(self, /)\n",
      " |      Implement iter(self).\n",
      " |  \n",
      " |  __le__(self, value, /)\n",
      " |      Return self<=value.\n",
      " |  \n",
      " |  __len__(self, /)\n",
      " |      Return len(self).\n",
      " |  \n",
      " |  __lt__(self, value, /)\n",
      " |      Return self<value.\n",
      " |  \n",
      " |  __mul__(self, value, /)\n",
      " |      Return self*value.\n",
      " |  \n",
      " |  __ne__(self, value, /)\n",
      " |      Return self!=value.\n",
      " |  \n",
      " |  __new__(*args, **kwargs) from builtins.type\n",
      " |      Create and return a new object.  See help(type) for accurate signature.\n",
      " |  \n",
      " |  __repr__(self, /)\n",
      " |      Return repr(self).\n",
      " |  \n",
      " |  __rmul__(self, value, /)\n",
      " |      Return value*self.\n",
      " |  \n",
      " |  count(...)\n",
      " |      T.count(value) -> integer -- return number of occurrences of value\n",
      " |  \n",
      " |  index(...)\n",
      " |      T.index(value, [start, [stop]]) -> integer -- return first index of value.\n",
      " |      Raises ValueError if the value is not present.\n",
      "\n"
     ]
    }
   ],
   "source": [
    "help(tuple)"
   ]
  },
  {
   "cell_type": "code",
   "execution_count": 0,
   "metadata": {
    "colab": {
     "base_uri": "https://localhost:8080/",
     "height": 34
    },
    "colab_type": "code",
    "executionInfo": {
     "elapsed": 522,
     "status": "ok",
     "timestamp": 1582725539952,
     "user": {
      "displayName": "Peker Çelik",
      "photoUrl": "",
      "userId": "09102142290444287322"
     },
     "user_tz": -180
    },
    "id": "7IyEkAlulyjM",
    "outputId": "78ec8e88-23c4-4af4-949c-334ebf469365"
   },
   "outputs": [
    {
     "data": {
      "text/plain": [
       "1"
      ]
     },
     "execution_count": 86,
     "metadata": {
      "tags": []
     },
     "output_type": "execute_result"
    }
   ],
   "source": [
    "tup.index(2)"
   ]
  },
  {
   "cell_type": "code",
   "execution_count": 0,
   "metadata": {
    "colab": {
     "base_uri": "https://localhost:8080/",
     "height": 102
    },
    "colab_type": "code",
    "executionInfo": {
     "elapsed": 815,
     "status": "ok",
     "timestamp": 1582725541020,
     "user": {
      "displayName": "Peker Çelik",
      "photoUrl": "",
      "userId": "09102142290444287322"
     },
     "user_tz": -180
    },
    "id": "Q7KVyzL6vqjY",
    "outputId": "41c9dec3-6f84-4b96-8b3b-cece5c72b4be"
   },
   "outputs": [
    {
     "name": "stdout",
     "output_type": "stream",
     "text": [
      "\n",
      "*\n",
      "**\n",
      "***\n",
      "****\n"
     ]
    }
   ],
   "source": [
    "#Loops\n",
    "\n",
    "#for loop\n",
    "\n",
    "for i in range(0,5):\n",
    "  for j in range(0,i):\n",
    "    print(\"*\",end=\"\")\n",
    "  print(\"\")"
   ]
  },
  {
   "cell_type": "code",
   "execution_count": 0,
   "metadata": {
    "colab": {
     "base_uri": "https://localhost:8080/",
     "height": 119
    },
    "colab_type": "code",
    "executionInfo": {
     "elapsed": 360,
     "status": "ok",
     "timestamp": 1582725541759,
     "user": {
      "displayName": "Peker Çelik",
      "photoUrl": "",
      "userId": "09102142290444287322"
     },
     "user_tz": -180
    },
    "id": "2Fh2jHIlwboT",
    "outputId": "3e991cd2-2aee-4982-c4e9-8b4b43b1817b"
   },
   "outputs": [
    {
     "name": "stdout",
     "output_type": "stream",
     "text": [
      "14\n",
      "2\n",
      "3\n",
      "124\n",
      "4\n",
      "2\n"
     ]
    }
   ],
   "source": [
    "for i in tup:\n",
    "  print(i)"
   ]
  },
  {
   "cell_type": "code",
   "execution_count": 0,
   "metadata": {
    "colab": {},
    "colab_type": "code",
    "id": "m-AiITjFvs4C"
   },
   "outputs": [],
   "source": [
    "#Conditions"
   ]
  },
  {
   "cell_type": "code",
   "execution_count": 0,
   "metadata": {
    "colab": {
     "base_uri": "https://localhost:8080/",
     "height": 34
    },
    "colab_type": "code",
    "executionInfo": {
     "elapsed": 350,
     "status": "ok",
     "timestamp": 1582725543527,
     "user": {
      "displayName": "Peker Çelik",
      "photoUrl": "",
      "userId": "09102142290444287322"
     },
     "user_tz": -180
    },
    "id": "R8YgYFbGws7q",
    "outputId": "a90a2e8f-7d02-4281-ed2f-6436005f1a44"
   },
   "outputs": [
    {
     "name": "stdout",
     "output_type": "stream",
     "text": [
      "i am printed\n"
     ]
    }
   ],
   "source": [
    "if(var1==10):\n",
    "  print(\"i am printed\")"
   ]
  },
  {
   "cell_type": "code",
   "execution_count": 0,
   "metadata": {
    "colab": {},
    "colab_type": "code",
    "id": "fG8wajDhvuly"
   },
   "outputs": [],
   "source": [
    "#Functions"
   ]
  },
  {
   "cell_type": "code",
   "execution_count": 0,
   "metadata": {
    "colab": {},
    "colab_type": "code",
    "id": "SDGHZqsPvxUC"
   },
   "outputs": [],
   "source": [
    "def endeks(boy,kilo):\n",
    "  result= kilo/boy**2\n",
    "  return result\n"
   ]
  },
  {
   "cell_type": "code",
   "execution_count": 0,
   "metadata": {
    "colab": {
     "base_uri": "https://localhost:8080/",
     "height": 68
    },
    "colab_type": "code",
    "executionInfo": {
     "elapsed": 7403,
     "status": "ok",
     "timestamp": 1582740035449,
     "user": {
      "displayName": "Peker Çelik",
      "photoUrl": "",
      "userId": "09102142290444287322"
     },
     "user_tz": -180
    },
    "id": "9JvfC6mF0kZG",
    "outputId": "4c7bc6fb-7390-4191-a5fa-fdf4234fba5d"
   },
   "outputs": [
    {
     "name": "stdout",
     "output_type": "stream",
     "text": [
      "boyunu gir: 1.87\n",
      "kilonu gir: 75\n"
     ]
    },
    {
     "data": {
      "text/plain": [
       "21.447567845806283"
      ]
     },
     "execution_count": 101,
     "metadata": {
      "tags": []
     },
     "output_type": "execute_result"
    }
   ],
   "source": [
    "x= float(input(\"boyunu gir: \"))\n",
    "y =  int(input(\"kilonu gir: \"))\n",
    "endeks(x,y)"
   ]
  },
  {
   "cell_type": "code",
   "execution_count": 0,
   "metadata": {
    "colab": {},
    "colab_type": "code",
    "id": "aVqpkAt4pdVp"
   },
   "outputs": [],
   "source": [
    "def endd():\n",
    "  boy = float(input(\"boyunu gir: \"))\n",
    "  kilo = int(input(\"kilonu gir: \"))\n",
    "  return kilo/boy**2"
   ]
  },
  {
   "cell_type": "code",
   "execution_count": 0,
   "metadata": {
    "colab": {
     "base_uri": "https://localhost:8080/",
     "height": 68
    },
    "colab_type": "code",
    "executionInfo": {
     "elapsed": 35815,
     "status": "ok",
     "timestamp": 1582740135761,
     "user": {
      "displayName": "Peker Çelik",
      "photoUrl": "",
      "userId": "09102142290444287322"
     },
     "user_tz": -180
    },
    "id": "yWdaNT6gqT02",
    "outputId": "6ce541d2-054a-41e4-8f9c-01cff8ae9919"
   },
   "outputs": [
    {
     "name": "stdout",
     "output_type": "stream",
     "text": [
      "boyunu gir: 1.87\n",
      "kilonu gir: 75\n"
     ]
    },
    {
     "data": {
      "text/plain": [
       "21.447567845806283"
      ]
     },
     "execution_count": 103,
     "metadata": {
      "tags": []
     },
     "output_type": "execute_result"
    }
   ],
   "source": [
    "endd()"
   ]
  },
  {
   "cell_type": "code",
   "execution_count": 0,
   "metadata": {
    "colab": {},
    "colab_type": "code",
    "id": "D7i60KTTqVMm"
   },
   "outputs": [],
   "source": [
    "# 1 2 3 4 1-topla 2-çıkar 3-çarp 4-böl\n",
    "#kullanıcıdan 2 sayı\n",
    "#sonuç kullanıcıya basılıcak\n",
    "#bu bir fonksiyon olarak yazılsın\n",
    "\n",
    "def calculator():\n",
    "  op = int(input(\" 1- Toplama\\n 2-Çıkarma \\n 3-Çarpma \\n 4-Bölme\\n\"))\n",
    "  x= int(input(\"ilk işlem sayısını girin: \"))\n",
    "  y= int(input(\"ikinci işlem sayısını girin: \"))\n",
    "  if(op ==1):\n",
    "    return x+y\n",
    "  elif(op==2):\n",
    "    return x-y\n",
    "  elif(op==3):\n",
    "    return x*y\n",
    "  elif(op==4 and y !=0):\n",
    "    return x/y\n",
    "  else:\n",
    "    return \"Yanlış bir sayı girdin veya 0 a bölmeye çalıştın\""
   ]
  },
  {
   "cell_type": "code",
   "execution_count": 0,
   "metadata": {
    "colab": {
     "base_uri": "https://localhost:8080/",
     "height": 153
    },
    "colab_type": "code",
    "executionInfo": {
     "elapsed": 3689,
     "status": "ok",
     "timestamp": 1582741488873,
     "user": {
      "displayName": "Peker Çelik",
      "photoUrl": "",
      "userId": "09102142290444287322"
     },
     "user_tz": -180
    },
    "id": "ueKvUrf1sleb",
    "outputId": "7b1ad812-999a-45f8-aba3-3cfa935bb671"
   },
   "outputs": [
    {
     "name": "stdout",
     "output_type": "stream",
     "text": [
      "1- Toplama\n",
      " 2-Çıkarma \n",
      " 3-Çarpma \n",
      " 4-Bölme\n",
      "4\n",
      "ilk işlem sayısını girin: 10\n",
      "ikinci işlem sayısını girin: 0\n",
      "Yanlış bir sayı girdin veya 0 a bölmeye çalıştın\n"
     ]
    }
   ],
   "source": [
    "print(calculator())"
   ]
  },
  {
   "cell_type": "code",
   "execution_count": 0,
   "metadata": {
    "colab": {},
    "colab_type": "code",
    "id": "AuxRenLYsnWh"
   },
   "outputs": [],
   "source": []
  }
 ],
 "metadata": {
  "colab": {
   "authorship_tag": "ABX9TyPmR+cDeWhy0YnYFmKMC0wd",
   "name": "Özü MAKER Club PY0.ipynb",
   "provenance": []
  },
  "kernelspec": {
   "display_name": "Python 3",
   "language": "python",
   "name": "python3"
  },
  "language_info": {
   "codemirror_mode": {
    "name": "ipython",
    "version": 3
   },
   "file_extension": ".py",
   "mimetype": "text/x-python",
   "name": "python",
   "nbconvert_exporter": "python",
   "pygments_lexer": "ipython3",
   "version": "3.8.3"
  }
 },
 "nbformat": 4,
 "nbformat_minor": 1
}
